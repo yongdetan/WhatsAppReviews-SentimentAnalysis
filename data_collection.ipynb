{
 "cells": [
  {
   "cell_type": "code",
   "execution_count": 12,
   "id": "4961bb52",
   "metadata": {},
   "outputs": [],
   "source": [
    "from google_play_scraper import Sort, reviews,reviews_all\n",
    "import pandas as pd"
   ]
  },
  {
   "cell_type": "code",
   "execution_count": 13,
   "id": "bf81b4ca",
   "metadata": {},
   "outputs": [],
   "source": [
    "# initialization\n",
    "\n",
    "app_name = 'tv.twitch.android.app' # found in app's url\n",
    "\n",
    "rvws, token = reviews(\n",
    "    app_name,           # found in app's url\n",
    "    lang='en',        # defaults to 'en'\n",
    "    country='us',     # defaults to 'us'\n",
    "    sort=Sort.MOST_RELEVANT, # start with most recent\n",
    "    count=200       # batch size, set as 200 since 200 reviews per page\n",
    ")\n",
    "\n",
    "app_reviews = rvws\n",
    "batch_num=1"
   ]
  },
  {
   "cell_type": "code",
   "execution_count": 14,
   "id": "c97df9c8",
   "metadata": {},
   "outputs": [],
   "source": [
    "# Loop through the number of batches\n",
    "for batch in range(500): # You can adjust the number of batches to collect more or less reviews\n",
    "    rvws, token = reviews( # store continuation_token\n",
    "        app_name,\n",
    "        lang='en',\n",
    "        country='us',\n",
    "        sort=Sort.MOST_RELEVANT,\n",
    "        count=200,\n",
    "        # using token obtained from previous batch\n",
    "        continuation_token=token\n",
    "    )\n",
    "    app_reviews.extend(rvws)\n",
    "    batch_num +=1"
   ]
  },
  {
   "cell_type": "code",
   "execution_count": 16,
   "id": "919d8339",
   "metadata": {},
   "outputs": [],
   "source": [
    "df.to_csv('twitch_reviews.csv',index=False)"
   ]
  },
  {
   "cell_type": "code",
   "execution_count": 19,
   "id": "cb3e7521",
   "metadata": {},
   "outputs": [
    {
     "data": {
      "text/plain": [
       "5    40092\n",
       "1    22002\n",
       "4    16996\n",
       "3    10909\n",
       "2     8985\n",
       "Name: score, dtype: int64"
      ]
     },
     "execution_count": 19,
     "metadata": {},
     "output_type": "execute_result"
    }
   ],
   "source": [
    "df.score.value_counts()"
   ]
  },
  {
   "cell_type": "code",
   "execution_count": 22,
   "id": "fb03efcf",
   "metadata": {},
   "outputs": [
    {
     "data": {
      "text/plain": [
       "966887"
      ]
     },
     "execution_count": 22,
     "metadata": {},
     "output_type": "execute_result"
    }
   ],
   "source": [
    "df.thumbsUpCount.sum()"
   ]
  },
  {
   "cell_type": "code",
   "execution_count": 26,
   "id": "724f4899",
   "metadata": {},
   "outputs": [
    {
     "name": "stdout",
     "output_type": "stream",
     "text": [
      "<class 'pandas.core.frame.DataFrame'>\n",
      "RangeIndex: 98984 entries, 0 to 98983\n",
      "Data columns (total 10 columns):\n",
      " #   Column                Non-Null Count  Dtype         \n",
      "---  ------                --------------  -----         \n",
      " 0   reviewId              98984 non-null  object        \n",
      " 1   userName              98984 non-null  object        \n",
      " 2   userImage             98984 non-null  object        \n",
      " 3   content               98984 non-null  object        \n",
      " 4   score                 98984 non-null  int64         \n",
      " 5   thumbsUpCount         98984 non-null  int64         \n",
      " 6   reviewCreatedVersion  96507 non-null  object        \n",
      " 7   at                    98984 non-null  datetime64[ns]\n",
      " 8   replyContent          86 non-null     object        \n",
      " 9   repliedAt             86 non-null     datetime64[ns]\n",
      "dtypes: datetime64[ns](2), int64(2), object(6)\n",
      "memory usage: 7.6+ MB\n"
     ]
    }
   ],
   "source": [
    "df.info()"
   ]
  },
  {
   "cell_type": "code",
   "execution_count": null,
   "id": "10363ff5",
   "metadata": {},
   "outputs": [],
   "source": []
  }
 ],
 "metadata": {
  "kernelspec": {
   "display_name": "Python 3",
   "language": "python",
   "name": "python3"
  },
  "language_info": {
   "codemirror_mode": {
    "name": "ipython",
    "version": 3
   },
   "file_extension": ".py",
   "mimetype": "text/x-python",
   "name": "python",
   "nbconvert_exporter": "python",
   "pygments_lexer": "ipython3",
   "version": "3.7.10"
  }
 },
 "nbformat": 4,
 "nbformat_minor": 5
}
